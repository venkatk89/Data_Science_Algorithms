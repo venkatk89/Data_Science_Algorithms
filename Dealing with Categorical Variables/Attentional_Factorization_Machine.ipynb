{
 "cells": [
  {
   "cell_type": "code",
   "execution_count": 1,
   "metadata": {},
   "outputs": [],
   "source": [
    "import pandas as pd\n",
    "import matplotlib.pyplot as plt\n",
    "from sklearn.metrics import log_loss, roc_auc_score\n",
    "from sklearn.model_selection import train_test_split\n",
    "from sklearn.preprocessing import LabelEncoder, MinMaxScaler"
   ]
  },
  {
   "cell_type": "code",
   "execution_count": 2,
   "metadata": {},
   "outputs": [],
   "source": [
    "from deepctr.models import *\n",
    "from deepctr.feature_column import SparseFeat, DenseFeat, get_feature_names"
   ]
  },
  {
   "cell_type": "markdown",
   "metadata": {},
   "source": [
    "Importing Necessary Data"
   ]
  },
  {
   "cell_type": "code",
   "execution_count": 3,
   "metadata": {},
   "outputs": [],
   "source": [
    "h1n1_train = pd.read_csv(\"h1n1_train.csv\")"
   ]
  },
  {
   "cell_type": "code",
   "execution_count": 4,
   "metadata": {},
   "outputs": [
    {
     "data": {
      "text/plain": [
       "(26707, 31)"
      ]
     },
     "execution_count": 4,
     "metadata": {},
     "output_type": "execute_result"
    }
   ],
   "source": [
    "#h1n1_train.head()\n",
    "h1n1_train.shape"
   ]
  },
  {
   "cell_type": "code",
   "execution_count": 5,
   "metadata": {},
   "outputs": [],
   "source": [
    "seas_train = pd.read_csv(\"seas_train.csv\")"
   ]
  },
  {
   "cell_type": "code",
   "execution_count": 6,
   "metadata": {},
   "outputs": [
    {
     "data": {
      "text/plain": [
       "(26707, 29)"
      ]
     },
     "execution_count": 6,
     "metadata": {},
     "output_type": "execute_result"
    }
   ],
   "source": [
    "#seas_train.head()\n",
    "seas_train.shape"
   ]
  },
  {
   "cell_type": "code",
   "execution_count": 7,
   "metadata": {},
   "outputs": [],
   "source": [
    "train_y = pd.read_csv(\"~/Desktop/flu_shot_learning/data/training_set_labels.csv\")"
   ]
  },
  {
   "cell_type": "code",
   "execution_count": 8,
   "metadata": {},
   "outputs": [],
   "source": [
    "# saving the target values for different viruses seperately\n",
    "h1n1_y = train_y[\"h1n1_vaccine\"]\n",
    "seas_y = train_y[\"seasonal_vaccine\"]"
   ]
  },
  {
   "cell_type": "markdown",
   "metadata": {},
   "source": [
    "Data Preprocessing"
   ]
  },
  {
   "cell_type": "code",
   "execution_count": 9,
   "metadata": {},
   "outputs": [],
   "source": [
    "# fill nas with -1\n",
    "h1n1_train = h1n1_train.fillna('-1', )\n",
    "\n",
    "seas_train = seas_train.fillna('-1', )"
   ]
  },
  {
   "cell_type": "code",
   "execution_count": 10,
   "metadata": {},
   "outputs": [],
   "source": [
    "h1n1_sparse_features = list(h1n1_train.columns.values)"
   ]
  },
  {
   "cell_type": "code",
   "execution_count": 11,
   "metadata": {},
   "outputs": [],
   "source": [
    "seas_sparse_features = list(seas_train.columns.values)"
   ]
  },
  {
   "cell_type": "code",
   "execution_count": 12,
   "metadata": {},
   "outputs": [],
   "source": [
    "# 1.Label Encoding for sparse features,and do simple Transformation for dense features"
   ]
  },
  {
   "cell_type": "code",
   "execution_count": 13,
   "metadata": {},
   "outputs": [],
   "source": [
    "for feat in h1n1_sparse_features:\n",
    "    lbe = LabelEncoder()\n",
    "    h1n1_train[feat] = lbe.fit_transform(h1n1_train[feat].astype(str))"
   ]
  },
  {
   "cell_type": "code",
   "execution_count": 14,
   "metadata": {},
   "outputs": [],
   "source": [
    "for feat in seas_sparse_features:\n",
    "    lbe = LabelEncoder()\n",
    "    seas_train[feat] = lbe.fit_transform(seas_train[feat].astype(str))"
   ]
  },
  {
   "cell_type": "code",
   "execution_count": null,
   "metadata": {},
   "outputs": [],
   "source": []
  },
  {
   "cell_type": "code",
   "execution_count": 15,
   "metadata": {},
   "outputs": [
    {
     "name": "stdout",
     "output_type": "stream",
     "text": [
      "WARNING:tensorflow:From c:\\users\\venkatesh k\\appdata\\local\\programs\\python\\python37\\lib\\site-packages\\tensorflow\\python\\keras\\initializers.py:143: calling RandomNormal.__init__ (from tensorflow.python.ops.init_ops) with dtype is deprecated and will be removed in a future version.\n",
      "Instructions for updating:\n",
      "Call initializer instance with the dtype argument instead of passing it to the constructor\n"
     ]
    }
   ],
   "source": [
    "h1n1_fixlen_feature_columns = [SparseFeat(feat, vocabulary_size = h1n1_train[feat].nunique(), embedding_dim=2)\n",
    "                              for i,feat in enumerate(h1n1_sparse_features)]"
   ]
  },
  {
   "cell_type": "code",
   "execution_count": 16,
   "metadata": {},
   "outputs": [],
   "source": [
    "seas_fixlen_feature_columns = [SparseFeat(feat, vocabulary_size = seas_train[feat].nunique(), embedding_dim=2)\n",
    "                              for i,feat in enumerate(seas_sparse_features)]"
   ]
  },
  {
   "cell_type": "code",
   "execution_count": null,
   "metadata": {},
   "outputs": [],
   "source": []
  },
  {
   "cell_type": "code",
   "execution_count": 17,
   "metadata": {},
   "outputs": [],
   "source": [
    "h1n1_dnn_feature_columns = h1n1_fixlen_feature_columns\n",
    "h1n1_linear_feature_columns = h1n1_fixlen_feature_columns"
   ]
  },
  {
   "cell_type": "code",
   "execution_count": 18,
   "metadata": {},
   "outputs": [],
   "source": [
    "seas_dnn_feature_columns = seas_fixlen_feature_columns\n",
    "seas_linear_feature_columns = seas_fixlen_feature_columns"
   ]
  },
  {
   "cell_type": "code",
   "execution_count": null,
   "metadata": {},
   "outputs": [],
   "source": []
  },
  {
   "cell_type": "code",
   "execution_count": 19,
   "metadata": {},
   "outputs": [],
   "source": [
    "h1n1_feature_names = get_feature_names(h1n1_linear_feature_columns + h1n1_dnn_feature_columns)"
   ]
  },
  {
   "cell_type": "code",
   "execution_count": 20,
   "metadata": {},
   "outputs": [],
   "source": [
    "seas_feature_names = get_feature_names(seas_linear_feature_columns + seas_dnn_feature_columns)"
   ]
  },
  {
   "cell_type": "markdown",
   "metadata": {},
   "source": [
    "Generate input data for model"
   ]
  },
  {
   "cell_type": "code",
   "execution_count": 21,
   "metadata": {},
   "outputs": [],
   "source": [
    "h1n1_train_model_input = {name:h1n1_train[name] for name in h1n1_feature_names}"
   ]
  },
  {
   "cell_type": "code",
   "execution_count": 22,
   "metadata": {},
   "outputs": [],
   "source": [
    "seas_train_model_input = {name:seas_train[name] for name in seas_feature_names}"
   ]
  },
  {
   "cell_type": "markdown",
   "metadata": {},
   "source": [
    "Model Building"
   ]
  },
  {
   "cell_type": "code",
   "execution_count": 80,
   "metadata": {},
   "outputs": [
    {
     "name": "stdout",
     "output_type": "stream",
     "text": [
      "WARNING:tensorflow:\n",
      "The following Variables were used a Lambda layer's call (lambda_9), but\n",
      "are not present in its tracked objects:\n",
      "  <tf.Variable 'afm_layer_9/projection_p:0' shape=(2, 1) dtype=float32>\n",
      "It is possible that this is intended behavior, but it is more likely\n",
      "an omission. This is a strong indication that this layer should be\n",
      "formulated as a subclassed Layer rather than a Lambda layer.\n"
     ]
    }
   ],
   "source": [
    "h1n1_model = AFM(h1n1_linear_feature_columns, h1n1_dnn_feature_columns, \n",
    "                 use_attention = True, attention_factor = 10, task='binary')"
   ]
  },
  {
   "cell_type": "code",
   "execution_count": 81,
   "metadata": {},
   "outputs": [],
   "source": [
    "h1n1_model.compile(\"adam\", \"binary_crossentropy\",\n",
    "                metrics=['AUC'], )"
   ]
  },
  {
   "cell_type": "code",
   "execution_count": 82,
   "metadata": {},
   "outputs": [
    {
     "name": "stdout",
     "output_type": "stream",
     "text": [
      "Model: \"model_9\"\n",
      "__________________________________________________________________________________________________\n",
      "Layer (type)                    Output Shape         Param #     Connected to                     \n",
      "==================================================================================================\n",
      "h1n1_concern (InputLayer)       [(None, 1)]          0                                            \n",
      "__________________________________________________________________________________________________\n",
      "h1n1_knowledge (InputLayer)     [(None, 1)]          0                                            \n",
      "__________________________________________________________________________________________________\n",
      "doctor_recc_h1n1 (InputLayer)   [(None, 1)]          0                                            \n",
      "__________________________________________________________________________________________________\n",
      "opinion_h1n1_vacc_effective (In [(None, 1)]          0                                            \n",
      "__________________________________________________________________________________________________\n",
      "opinion_h1n1_risk (InputLayer)  [(None, 1)]          0                                            \n",
      "__________________________________________________________________________________________________\n",
      "opinion_h1n1_sick_from_vacc (In [(None, 1)]          0                                            \n",
      "__________________________________________________________________________________________________\n",
      "behavioral_antiviral_meds (Inpu [(None, 1)]          0                                            \n",
      "__________________________________________________________________________________________________\n",
      "behavioral_avoidance (InputLaye [(None, 1)]          0                                            \n",
      "__________________________________________________________________________________________________\n",
      "behavioral_face_mask (InputLaye [(None, 1)]          0                                            \n",
      "__________________________________________________________________________________________________\n",
      "behavioral_wash_hands (InputLay [(None, 1)]          0                                            \n",
      "__________________________________________________________________________________________________\n",
      "behavioral_large_gatherings (In [(None, 1)]          0                                            \n",
      "__________________________________________________________________________________________________\n",
      "behavioral_outside_home (InputL [(None, 1)]          0                                            \n",
      "__________________________________________________________________________________________________\n",
      "behavioral_touch_face (InputLay [(None, 1)]          0                                            \n",
      "__________________________________________________________________________________________________\n",
      "chronic_med_condition (InputLay [(None, 1)]          0                                            \n",
      "__________________________________________________________________________________________________\n",
      "child_under_6_months (InputLaye [(None, 1)]          0                                            \n",
      "__________________________________________________________________________________________________\n",
      "health_worker (InputLayer)      [(None, 1)]          0                                            \n",
      "__________________________________________________________________________________________________\n",
      "health_insurance (InputLayer)   [(None, 1)]          0                                            \n",
      "__________________________________________________________________________________________________\n",
      "age_group (InputLayer)          [(None, 1)]          0                                            \n",
      "__________________________________________________________________________________________________\n",
      "education (InputLayer)          [(None, 1)]          0                                            \n",
      "__________________________________________________________________________________________________\n",
      "race (InputLayer)               [(None, 1)]          0                                            \n",
      "__________________________________________________________________________________________________\n",
      "sex (InputLayer)                [(None, 1)]          0                                            \n",
      "__________________________________________________________________________________________________\n",
      "income_poverty (InputLayer)     [(None, 1)]          0                                            \n",
      "__________________________________________________________________________________________________\n",
      "marital_status (InputLayer)     [(None, 1)]          0                                            \n",
      "__________________________________________________________________________________________________\n",
      "rent_or_own (InputLayer)        [(None, 1)]          0                                            \n",
      "__________________________________________________________________________________________________\n",
      "employment_status (InputLayer)  [(None, 1)]          0                                            \n",
      "__________________________________________________________________________________________________\n",
      "hhs_geo_region (InputLayer)     [(None, 1)]          0                                            \n",
      "__________________________________________________________________________________________________\n",
      "census_msa (InputLayer)         [(None, 1)]          0                                            \n",
      "__________________________________________________________________________________________________\n",
      "household_adults (InputLayer)   [(None, 1)]          0                                            \n",
      "__________________________________________________________________________________________________\n",
      "household_children (InputLayer) [(None, 1)]          0                                            \n",
      "__________________________________________________________________________________________________\n",
      "employment_industry (InputLayer [(None, 1)]          0                                            \n",
      "__________________________________________________________________________________________________\n",
      "employment_occupation (InputLay [(None, 1)]          0                                            \n",
      "__________________________________________________________________________________________________\n",
      "linear0sparse_emb_h1n1_concern  (None, 1, 1)         5           h1n1_concern[0][0]               \n",
      "__________________________________________________________________________________________________\n",
      "linear0sparse_emb_h1n1_knowledg (None, 1, 1)         4           h1n1_knowledge[0][0]             \n",
      "__________________________________________________________________________________________________\n",
      "linear0sparse_emb_doctor_recc_h (None, 1, 1)         3           doctor_recc_h1n1[0][0]           \n",
      "__________________________________________________________________________________________________\n",
      "linear0sparse_emb_opinion_h1n1_ (None, 1, 1)         6           opinion_h1n1_vacc_effective[0][0]\n",
      "__________________________________________________________________________________________________\n",
      "linear0sparse_emb_opinion_h1n1_ (None, 1, 1)         6           opinion_h1n1_risk[0][0]          \n",
      "__________________________________________________________________________________________________\n",
      "linear0sparse_emb_opinion_h1n1_ (None, 1, 1)         6           opinion_h1n1_sick_from_vacc[0][0]\n",
      "__________________________________________________________________________________________________\n",
      "linear0sparse_emb_behavioral_an (None, 1, 1)         3           behavioral_antiviral_meds[0][0]  \n",
      "__________________________________________________________________________________________________\n",
      "linear0sparse_emb_behavioral_av (None, 1, 1)         3           behavioral_avoidance[0][0]       \n",
      "__________________________________________________________________________________________________\n",
      "linear0sparse_emb_behavioral_fa (None, 1, 1)         3           behavioral_face_mask[0][0]       \n",
      "__________________________________________________________________________________________________\n",
      "linear0sparse_emb_behavioral_wa (None, 1, 1)         3           behavioral_wash_hands[0][0]      \n",
      "__________________________________________________________________________________________________\n",
      "linear0sparse_emb_behavioral_la (None, 1, 1)         3           behavioral_large_gatherings[0][0]\n",
      "__________________________________________________________________________________________________\n",
      "linear0sparse_emb_behavioral_ou (None, 1, 1)         3           behavioral_outside_home[0][0]    \n",
      "__________________________________________________________________________________________________\n",
      "linear0sparse_emb_behavioral_to (None, 1, 1)         3           behavioral_touch_face[0][0]      \n",
      "__________________________________________________________________________________________________\n",
      "linear0sparse_emb_chronic_med_c (None, 1, 1)         3           chronic_med_condition[0][0]      \n",
      "__________________________________________________________________________________________________\n",
      "linear0sparse_emb_child_under_6 (None, 1, 1)         3           child_under_6_months[0][0]       \n",
      "__________________________________________________________________________________________________\n",
      "linear0sparse_emb_health_worker (None, 1, 1)         3           health_worker[0][0]              \n",
      "__________________________________________________________________________________________________\n",
      "linear0sparse_emb_health_insura (None, 1, 1)         3           health_insurance[0][0]           \n",
      "__________________________________________________________________________________________________\n",
      "linear0sparse_emb_age_group (Em (None, 1, 1)         5           age_group[0][0]                  \n",
      "__________________________________________________________________________________________________\n",
      "linear0sparse_emb_education (Em (None, 1, 1)         5           education[0][0]                  \n",
      "__________________________________________________________________________________________________\n",
      "linear0sparse_emb_race (Embeddi (None, 1, 1)         4           race[0][0]                       \n",
      "__________________________________________________________________________________________________\n",
      "linear0sparse_emb_sex (Embeddin (None, 1, 1)         2           sex[0][0]                        \n",
      "__________________________________________________________________________________________________\n",
      "linear0sparse_emb_income_povert (None, 1, 1)         4           income_poverty[0][0]             \n",
      "__________________________________________________________________________________________________\n",
      "linear0sparse_emb_marital_statu (None, 1, 1)         3           marital_status[0][0]             \n",
      "__________________________________________________________________________________________________\n",
      "linear0sparse_emb_rent_or_own ( (None, 1, 1)         3           rent_or_own[0][0]                \n",
      "__________________________________________________________________________________________________\n",
      "linear0sparse_emb_employment_st (None, 1, 1)         4           employment_status[0][0]          \n",
      "__________________________________________________________________________________________________\n",
      "linear0sparse_emb_hhs_geo_regio (None, 1, 1)         10          hhs_geo_region[0][0]             \n",
      "__________________________________________________________________________________________________\n",
      "linear0sparse_emb_census_msa (E (None, 1, 1)         3           census_msa[0][0]                 \n",
      "__________________________________________________________________________________________________\n",
      "linear0sparse_emb_household_adu (None, 1, 1)         5           household_adults[0][0]           \n",
      "__________________________________________________________________________________________________\n",
      "linear0sparse_emb_household_chi (None, 1, 1)         5           household_children[0][0]         \n",
      "__________________________________________________________________________________________________\n",
      "linear0sparse_emb_employment_in (None, 1, 1)         22          employment_industry[0][0]        \n",
      "__________________________________________________________________________________________________\n",
      "linear0sparse_emb_employment_oc (None, 1, 1)         24          employment_occupation[0][0]      \n",
      "__________________________________________________________________________________________________\n",
      "no_mask_18 (NoMask)             (None, 1, 1)         0           linear0sparse_emb_h1n1_concern[0]\n",
      "                                                                 linear0sparse_emb_h1n1_knowledge[\n",
      "                                                                 linear0sparse_emb_doctor_recc_h1n\n",
      "                                                                 linear0sparse_emb_opinion_h1n1_va\n",
      "                                                                 linear0sparse_emb_opinion_h1n1_ri\n",
      "                                                                 linear0sparse_emb_opinion_h1n1_si\n",
      "                                                                 linear0sparse_emb_behavioral_anti\n",
      "                                                                 linear0sparse_emb_behavioral_avoi\n",
      "                                                                 linear0sparse_emb_behavioral_face\n",
      "                                                                 linear0sparse_emb_behavioral_wash\n",
      "                                                                 linear0sparse_emb_behavioral_larg\n",
      "                                                                 linear0sparse_emb_behavioral_outs\n",
      "                                                                 linear0sparse_emb_behavioral_touc\n",
      "                                                                 linear0sparse_emb_chronic_med_con\n",
      "                                                                 linear0sparse_emb_child_under_6_m\n",
      "                                                                 linear0sparse_emb_health_worker[0\n",
      "                                                                 linear0sparse_emb_health_insuranc\n",
      "                                                                 linear0sparse_emb_age_group[0][0]\n",
      "                                                                 linear0sparse_emb_education[0][0]\n",
      "                                                                 linear0sparse_emb_race[0][0]     \n",
      "                                                                 linear0sparse_emb_sex[0][0]      \n",
      "                                                                 linear0sparse_emb_income_poverty[\n",
      "                                                                 linear0sparse_emb_marital_status[\n",
      "                                                                 linear0sparse_emb_rent_or_own[0][\n",
      "                                                                 linear0sparse_emb_employment_stat\n",
      "                                                                 linear0sparse_emb_hhs_geo_region[\n",
      "                                                                 linear0sparse_emb_census_msa[0][0\n",
      "                                                                 linear0sparse_emb_household_adult\n",
      "                                                                 linear0sparse_emb_household_child\n",
      "                                                                 linear0sparse_emb_employment_indu\n",
      "                                                                 linear0sparse_emb_employment_occu\n",
      "__________________________________________________________________________________________________\n",
      "concatenate_9 (Concatenate)     (None, 1, 31)        0           no_mask_18[0][0]                 \n",
      "                                                                 no_mask_18[1][0]                 \n",
      "                                                                 no_mask_18[2][0]                 \n",
      "                                                                 no_mask_18[3][0]                 \n",
      "                                                                 no_mask_18[4][0]                 \n",
      "                                                                 no_mask_18[5][0]                 \n",
      "                                                                 no_mask_18[6][0]                 \n",
      "                                                                 no_mask_18[7][0]                 \n",
      "                                                                 no_mask_18[8][0]                 \n",
      "                                                                 no_mask_18[9][0]                 \n",
      "                                                                 no_mask_18[10][0]                \n",
      "                                                                 no_mask_18[11][0]                \n",
      "                                                                 no_mask_18[12][0]                \n",
      "                                                                 no_mask_18[13][0]                \n",
      "                                                                 no_mask_18[14][0]                \n",
      "                                                                 no_mask_18[15][0]                \n",
      "                                                                 no_mask_18[16][0]                \n",
      "                                                                 no_mask_18[17][0]                \n",
      "                                                                 no_mask_18[18][0]                \n",
      "                                                                 no_mask_18[19][0]                \n",
      "                                                                 no_mask_18[20][0]                \n",
      "                                                                 no_mask_18[21][0]                \n",
      "                                                                 no_mask_18[22][0]                \n",
      "                                                                 no_mask_18[23][0]                \n",
      "                                                                 no_mask_18[24][0]                \n",
      "                                                                 no_mask_18[25][0]                \n",
      "                                                                 no_mask_18[26][0]                \n",
      "                                                                 no_mask_18[27][0]                \n",
      "                                                                 no_mask_18[28][0]                \n",
      "                                                                 no_mask_18[29][0]                \n",
      "                                                                 no_mask_18[30][0]                \n",
      "__________________________________________________________________________________________________\n",
      "sparse_emb_h1n1_concern (Embedd (None, 1, 2)         10          h1n1_concern[0][0]               \n",
      "__________________________________________________________________________________________________\n",
      "sparse_emb_h1n1_knowledge (Embe (None, 1, 2)         8           h1n1_knowledge[0][0]             \n",
      "__________________________________________________________________________________________________\n",
      "sparse_emb_doctor_recc_h1n1 (Em (None, 1, 2)         6           doctor_recc_h1n1[0][0]           \n",
      "__________________________________________________________________________________________________\n",
      "sparse_emb_opinion_h1n1_vacc_ef (None, 1, 2)         12          opinion_h1n1_vacc_effective[0][0]\n",
      "__________________________________________________________________________________________________\n",
      "sparse_emb_opinion_h1n1_risk (E (None, 1, 2)         12          opinion_h1n1_risk[0][0]          \n",
      "__________________________________________________________________________________________________\n",
      "sparse_emb_opinion_h1n1_sick_fr (None, 1, 2)         12          opinion_h1n1_sick_from_vacc[0][0]\n",
      "__________________________________________________________________________________________________\n",
      "sparse_emb_behavioral_antiviral (None, 1, 2)         6           behavioral_antiviral_meds[0][0]  \n",
      "__________________________________________________________________________________________________\n",
      "sparse_emb_behavioral_avoidance (None, 1, 2)         6           behavioral_avoidance[0][0]       \n",
      "__________________________________________________________________________________________________\n",
      "sparse_emb_behavioral_face_mask (None, 1, 2)         6           behavioral_face_mask[0][0]       \n",
      "__________________________________________________________________________________________________\n",
      "sparse_emb_behavioral_wash_hand (None, 1, 2)         6           behavioral_wash_hands[0][0]      \n",
      "__________________________________________________________________________________________________\n",
      "sparse_emb_behavioral_large_gat (None, 1, 2)         6           behavioral_large_gatherings[0][0]\n",
      "__________________________________________________________________________________________________\n",
      "sparse_emb_behavioral_outside_h (None, 1, 2)         6           behavioral_outside_home[0][0]    \n",
      "__________________________________________________________________________________________________\n",
      "sparse_emb_behavioral_touch_fac (None, 1, 2)         6           behavioral_touch_face[0][0]      \n",
      "__________________________________________________________________________________________________\n",
      "sparse_emb_chronic_med_conditio (None, 1, 2)         6           chronic_med_condition[0][0]      \n",
      "__________________________________________________________________________________________________\n",
      "sparse_emb_child_under_6_months (None, 1, 2)         6           child_under_6_months[0][0]       \n",
      "__________________________________________________________________________________________________\n",
      "sparse_emb_health_worker (Embed (None, 1, 2)         6           health_worker[0][0]              \n",
      "__________________________________________________________________________________________________\n",
      "sparse_emb_health_insurance (Em (None, 1, 2)         6           health_insurance[0][0]           \n",
      "__________________________________________________________________________________________________\n",
      "sparse_emb_age_group (Embedding (None, 1, 2)         10          age_group[0][0]                  \n",
      "__________________________________________________________________________________________________\n",
      "sparse_emb_education (Embedding (None, 1, 2)         10          education[0][0]                  \n",
      "__________________________________________________________________________________________________\n",
      "sparse_emb_race (Embedding)     (None, 1, 2)         8           race[0][0]                       \n",
      "__________________________________________________________________________________________________\n",
      "sparse_emb_sex (Embedding)      (None, 1, 2)         4           sex[0][0]                        \n",
      "__________________________________________________________________________________________________\n",
      "sparse_emb_income_poverty (Embe (None, 1, 2)         8           income_poverty[0][0]             \n",
      "__________________________________________________________________________________________________\n",
      "sparse_emb_marital_status (Embe (None, 1, 2)         6           marital_status[0][0]             \n",
      "__________________________________________________________________________________________________\n",
      "sparse_emb_rent_or_own (Embeddi (None, 1, 2)         6           rent_or_own[0][0]                \n",
      "__________________________________________________________________________________________________\n",
      "sparse_emb_employment_status (E (None, 1, 2)         8           employment_status[0][0]          \n",
      "__________________________________________________________________________________________________\n",
      "sparse_emb_hhs_geo_region (Embe (None, 1, 2)         20          hhs_geo_region[0][0]             \n",
      "__________________________________________________________________________________________________\n",
      "sparse_emb_census_msa (Embeddin (None, 1, 2)         6           census_msa[0][0]                 \n",
      "__________________________________________________________________________________________________\n",
      "sparse_emb_household_adults (Em (None, 1, 2)         10          household_adults[0][0]           \n",
      "__________________________________________________________________________________________________\n",
      "sparse_emb_household_children ( (None, 1, 2)         10          household_children[0][0]         \n",
      "__________________________________________________________________________________________________\n",
      "sparse_emb_employment_industry  (None, 1, 2)         44          employment_industry[0][0]        \n",
      "__________________________________________________________________________________________________\n",
      "sparse_emb_employment_occupatio (None, 1, 2)         48          employment_occupation[0][0]      \n",
      "__________________________________________________________________________________________________\n",
      "linear_9 (Linear)               (None, 1, 1)         0           concatenate_9[0][0]              \n",
      "__________________________________________________________________________________________________\n",
      "afm_layer_9 (AFMLayer)          (None, 1)            42          sparse_emb_h1n1_concern[0][0]    \n",
      "                                                                 sparse_emb_h1n1_knowledge[0][0]  \n",
      "                                                                 sparse_emb_doctor_recc_h1n1[0][0]\n",
      "                                                                 sparse_emb_opinion_h1n1_vacc_effe\n",
      "                                                                 sparse_emb_opinion_h1n1_risk[0][0\n",
      "                                                                 sparse_emb_opinion_h1n1_sick_from\n",
      "                                                                 sparse_emb_behavioral_antiviral_m\n",
      "                                                                 sparse_emb_behavioral_avoidance[0\n",
      "                                                                 sparse_emb_behavioral_face_mask[0\n",
      "                                                                 sparse_emb_behavioral_wash_hands[\n",
      "                                                                 sparse_emb_behavioral_large_gathe\n",
      "                                                                 sparse_emb_behavioral_outside_hom\n",
      "                                                                 sparse_emb_behavioral_touch_face[\n",
      "                                                                 sparse_emb_chronic_med_condition[\n",
      "                                                                 sparse_emb_child_under_6_months[0\n",
      "                                                                 sparse_emb_health_worker[0][0]   \n",
      "                                                                 sparse_emb_health_insurance[0][0]\n",
      "                                                                 sparse_emb_age_group[0][0]       \n",
      "                                                                 sparse_emb_education[0][0]       \n",
      "                                                                 sparse_emb_race[0][0]            \n",
      "                                                                 sparse_emb_sex[0][0]             \n",
      "                                                                 sparse_emb_income_poverty[0][0]  \n",
      "                                                                 sparse_emb_marital_status[0][0]  \n",
      "                                                                 sparse_emb_rent_or_own[0][0]     \n",
      "                                                                 sparse_emb_employment_status[0][0\n",
      "                                                                 sparse_emb_hhs_geo_region[0][0]  \n",
      "                                                                 sparse_emb_census_msa[0][0]      \n",
      "                                                                 sparse_emb_household_adults[0][0]\n",
      "                                                                 sparse_emb_household_children[0][\n",
      "                                                                 sparse_emb_employment_industry[0]\n",
      "                                                                 sparse_emb_employment_occupation[\n",
      "__________________________________________________________________________________________________\n",
      "no_mask_19 (NoMask)             (None, 1, 1)         0           linear_9[0][0]                   \n",
      "__________________________________________________________________________________________________\n",
      "add_18 (Add)                    (None, 1)            0           afm_layer_9[0][0]                \n",
      "__________________________________________________________________________________________________\n",
      "add_19 (Add)                    (None, 1, 1)         0           no_mask_19[0][0]                 \n",
      "                                                                 add_18[0][0]                     \n",
      "__________________________________________________________________________________________________\n",
      "prediction_layer_9 (PredictionL (None, 1)            1           add_19[0][0]                     \n",
      "==================================================================================================\n",
      "Total params: 529\n",
      "Trainable params: 529\n",
      "Non-trainable params: 0\n",
      "__________________________________________________________________________________________________\n"
     ]
    }
   ],
   "source": [
    "h1n1_model.summary()"
   ]
  },
  {
   "cell_type": "code",
   "execution_count": 83,
   "metadata": {},
   "outputs": [
    {
     "name": "stdout",
     "output_type": "stream",
     "text": [
      "Epoch 1/15\n"
     ]
    },
    {
     "name": "stderr",
     "output_type": "stream",
     "text": [
      "c:\\users\\venkatesh k\\appdata\\local\\programs\\python\\python37\\lib\\site-packages\\tensorflow\\python\\framework\\indexed_slices.py:434: UserWarning: Converting sparse IndexedSlices to a dense Tensor of unknown shape. This may consume a large amount of memory.\n",
      "  \"Converting sparse IndexedSlices to a dense Tensor of unknown shape. \"\n"
     ]
    },
    {
     "name": "stdout",
     "output_type": "stream",
     "text": [
      "1670/1670 [==============================] - 13s 8ms/step - loss: 0.4059 - auc: 0.8201\n",
      "Epoch 2/15\n",
      "1670/1670 [==============================] - 13s 8ms/step - loss: 0.3572 - auc: 0.8577\n",
      "Epoch 3/15\n",
      "1670/1670 [==============================] - 13s 8ms/step - loss: 0.3537 - auc: 0.8606\n",
      "Epoch 4/15\n",
      "1670/1670 [==============================] - 13s 8ms/step - loss: 0.3525 - auc: 0.8615\n",
      "Epoch 5/15\n",
      "1670/1670 [==============================] - 13s 8ms/step - loss: 0.3515 - auc: 0.8624\n",
      "Epoch 6/15\n",
      "1670/1670 [==============================] - 13s 8ms/step - loss: 0.3512 - auc: 0.8627\n",
      "Epoch 7/15\n",
      "1670/1670 [==============================] - 13s 8ms/step - loss: 0.3510 - auc: 0.8631\n",
      "Epoch 8/15\n",
      "1670/1670 [==============================] - 13s 8ms/step - loss: 0.3505 - auc: 0.8636\n",
      "Epoch 9/15\n",
      "1670/1670 [==============================] - 13s 8ms/step - loss: 0.3505 - auc: 0.8635\n",
      "Epoch 10/15\n",
      "1670/1670 [==============================] - 13s 8ms/step - loss: 0.3502 - auc: 0.8639\n",
      "Epoch 11/15\n",
      "1670/1670 [==============================] - 13s 8ms/step - loss: 0.3497 - auc: 0.8643: 1s - \n",
      "Epoch 12/15\n",
      "1670/1670 [==============================] - 13s 8ms/step - loss: 0.3495 - auc: 0.8644\n",
      "Epoch 13/15\n",
      "1670/1670 [==============================] - 13s 8ms/step - loss: 0.3492 - auc: 0.8650\n",
      "Epoch 14/15\n",
      "1670/1670 [==============================] - 15s 9ms/step - loss: 0.3491 - auc: 0.8649\n",
      "Epoch 15/15\n",
      "1670/1670 [==============================] - 13s 8ms/step - loss: 0.3488 - auc: 0.8652\n"
     ]
    }
   ],
   "source": [
    "h1n1_history = h1n1_model.fit(h1n1_train_model_input, h1n1_y,\n",
    "                batch_size = 16, epochs=15)"
   ]
  },
  {
   "cell_type": "code",
   "execution_count": null,
   "metadata": {},
   "outputs": [],
   "source": []
  },
  {
   "cell_type": "code",
   "execution_count": 84,
   "metadata": {},
   "outputs": [
    {
     "name": "stdout",
     "output_type": "stream",
     "text": [
      "WARNING:tensorflow:\n",
      "The following Variables were used a Lambda layer's call (lambda_10), but\n",
      "are not present in its tracked objects:\n",
      "  <tf.Variable 'afm_layer_10/projection_p:0' shape=(2, 1) dtype=float32>\n",
      "It is possible that this is intended behavior, but it is more likely\n",
      "an omission. This is a strong indication that this layer should be\n",
      "formulated as a subclassed Layer rather than a Lambda layer.\n"
     ]
    }
   ],
   "source": [
    "seas_model = AFM(seas_linear_feature_columns, seas_dnn_feature_columns,\n",
    "                 use_attention = True, attention_factor = 10, task='binary')"
   ]
  },
  {
   "cell_type": "code",
   "execution_count": 85,
   "metadata": {},
   "outputs": [],
   "source": [
    "seas_model.compile(\"adam\", \"binary_crossentropy\",\n",
    "                metrics=['AUC'], )"
   ]
  },
  {
   "cell_type": "code",
   "execution_count": 86,
   "metadata": {},
   "outputs": [
    {
     "name": "stdout",
     "output_type": "stream",
     "text": [
      "Model: \"model_10\"\n",
      "__________________________________________________________________________________________________\n",
      "Layer (type)                    Output Shape         Param #     Connected to                     \n",
      "==================================================================================================\n",
      "doctor_recc_seasonal (InputLaye [(None, 1)]          0                                            \n",
      "__________________________________________________________________________________________________\n",
      "opinion_seas_vacc_effective (In [(None, 1)]          0                                            \n",
      "__________________________________________________________________________________________________\n",
      "opinion_seas_risk (InputLayer)  [(None, 1)]          0                                            \n",
      "__________________________________________________________________________________________________\n",
      "opinion_seas_sick_from_vacc (In [(None, 1)]          0                                            \n",
      "__________________________________________________________________________________________________\n",
      "behavioral_antiviral_meds (Inpu [(None, 1)]          0                                            \n",
      "__________________________________________________________________________________________________\n",
      "behavioral_avoidance (InputLaye [(None, 1)]          0                                            \n",
      "__________________________________________________________________________________________________\n",
      "behavioral_face_mask (InputLaye [(None, 1)]          0                                            \n",
      "__________________________________________________________________________________________________\n",
      "behavioral_wash_hands (InputLay [(None, 1)]          0                                            \n",
      "__________________________________________________________________________________________________\n",
      "behavioral_large_gatherings (In [(None, 1)]          0                                            \n",
      "__________________________________________________________________________________________________\n",
      "behavioral_outside_home (InputL [(None, 1)]          0                                            \n",
      "__________________________________________________________________________________________________\n",
      "behavioral_touch_face (InputLay [(None, 1)]          0                                            \n",
      "__________________________________________________________________________________________________\n",
      "chronic_med_condition (InputLay [(None, 1)]          0                                            \n",
      "__________________________________________________________________________________________________\n",
      "child_under_6_months (InputLaye [(None, 1)]          0                                            \n",
      "__________________________________________________________________________________________________\n",
      "health_worker (InputLayer)      [(None, 1)]          0                                            \n",
      "__________________________________________________________________________________________________\n",
      "health_insurance (InputLayer)   [(None, 1)]          0                                            \n",
      "__________________________________________________________________________________________________\n",
      "age_group (InputLayer)          [(None, 1)]          0                                            \n",
      "__________________________________________________________________________________________________\n",
      "education (InputLayer)          [(None, 1)]          0                                            \n",
      "__________________________________________________________________________________________________\n",
      "race (InputLayer)               [(None, 1)]          0                                            \n",
      "__________________________________________________________________________________________________\n",
      "sex (InputLayer)                [(None, 1)]          0                                            \n",
      "__________________________________________________________________________________________________\n",
      "income_poverty (InputLayer)     [(None, 1)]          0                                            \n",
      "__________________________________________________________________________________________________\n",
      "marital_status (InputLayer)     [(None, 1)]          0                                            \n",
      "__________________________________________________________________________________________________\n",
      "rent_or_own (InputLayer)        [(None, 1)]          0                                            \n",
      "__________________________________________________________________________________________________\n",
      "employment_status (InputLayer)  [(None, 1)]          0                                            \n",
      "__________________________________________________________________________________________________\n",
      "hhs_geo_region (InputLayer)     [(None, 1)]          0                                            \n",
      "__________________________________________________________________________________________________\n",
      "census_msa (InputLayer)         [(None, 1)]          0                                            \n",
      "__________________________________________________________________________________________________\n",
      "household_adults (InputLayer)   [(None, 1)]          0                                            \n",
      "__________________________________________________________________________________________________\n",
      "household_children (InputLayer) [(None, 1)]          0                                            \n",
      "__________________________________________________________________________________________________\n",
      "employment_industry (InputLayer [(None, 1)]          0                                            \n",
      "__________________________________________________________________________________________________\n",
      "employment_occupation (InputLay [(None, 1)]          0                                            \n",
      "__________________________________________________________________________________________________\n",
      "linear0sparse_emb_doctor_recc_s (None, 1, 1)         3           doctor_recc_seasonal[0][0]       \n",
      "__________________________________________________________________________________________________\n",
      "linear0sparse_emb_opinion_seas_ (None, 1, 1)         6           opinion_seas_vacc_effective[0][0]\n",
      "__________________________________________________________________________________________________\n",
      "linear0sparse_emb_opinion_seas_ (None, 1, 1)         6           opinion_seas_risk[0][0]          \n",
      "__________________________________________________________________________________________________\n",
      "linear0sparse_emb_opinion_seas_ (None, 1, 1)         6           opinion_seas_sick_from_vacc[0][0]\n",
      "__________________________________________________________________________________________________\n",
      "linear0sparse_emb_behavioral_an (None, 1, 1)         3           behavioral_antiviral_meds[0][0]  \n",
      "__________________________________________________________________________________________________\n",
      "linear0sparse_emb_behavioral_av (None, 1, 1)         3           behavioral_avoidance[0][0]       \n",
      "__________________________________________________________________________________________________\n",
      "linear0sparse_emb_behavioral_fa (None, 1, 1)         3           behavioral_face_mask[0][0]       \n",
      "__________________________________________________________________________________________________\n",
      "linear0sparse_emb_behavioral_wa (None, 1, 1)         3           behavioral_wash_hands[0][0]      \n",
      "__________________________________________________________________________________________________\n",
      "linear0sparse_emb_behavioral_la (None, 1, 1)         3           behavioral_large_gatherings[0][0]\n",
      "__________________________________________________________________________________________________\n",
      "linear0sparse_emb_behavioral_ou (None, 1, 1)         3           behavioral_outside_home[0][0]    \n",
      "__________________________________________________________________________________________________\n",
      "linear0sparse_emb_behavioral_to (None, 1, 1)         3           behavioral_touch_face[0][0]      \n",
      "__________________________________________________________________________________________________\n",
      "linear0sparse_emb_chronic_med_c (None, 1, 1)         3           chronic_med_condition[0][0]      \n",
      "__________________________________________________________________________________________________\n",
      "linear0sparse_emb_child_under_6 (None, 1, 1)         3           child_under_6_months[0][0]       \n",
      "__________________________________________________________________________________________________\n",
      "linear0sparse_emb_health_worker (None, 1, 1)         3           health_worker[0][0]              \n",
      "__________________________________________________________________________________________________\n",
      "linear0sparse_emb_health_insura (None, 1, 1)         3           health_insurance[0][0]           \n",
      "__________________________________________________________________________________________________\n",
      "linear0sparse_emb_age_group (Em (None, 1, 1)         5           age_group[0][0]                  \n",
      "__________________________________________________________________________________________________\n",
      "linear0sparse_emb_education (Em (None, 1, 1)         5           education[0][0]                  \n",
      "__________________________________________________________________________________________________\n",
      "linear0sparse_emb_race (Embeddi (None, 1, 1)         4           race[0][0]                       \n",
      "__________________________________________________________________________________________________\n",
      "linear0sparse_emb_sex (Embeddin (None, 1, 1)         2           sex[0][0]                        \n",
      "__________________________________________________________________________________________________\n",
      "linear0sparse_emb_income_povert (None, 1, 1)         4           income_poverty[0][0]             \n",
      "__________________________________________________________________________________________________\n",
      "linear0sparse_emb_marital_statu (None, 1, 1)         3           marital_status[0][0]             \n",
      "__________________________________________________________________________________________________\n",
      "linear0sparse_emb_rent_or_own ( (None, 1, 1)         3           rent_or_own[0][0]                \n",
      "__________________________________________________________________________________________________\n",
      "linear0sparse_emb_employment_st (None, 1, 1)         4           employment_status[0][0]          \n",
      "__________________________________________________________________________________________________\n",
      "linear0sparse_emb_hhs_geo_regio (None, 1, 1)         10          hhs_geo_region[0][0]             \n",
      "__________________________________________________________________________________________________\n",
      "linear0sparse_emb_census_msa (E (None, 1, 1)         3           census_msa[0][0]                 \n",
      "__________________________________________________________________________________________________\n",
      "linear0sparse_emb_household_adu (None, 1, 1)         5           household_adults[0][0]           \n",
      "__________________________________________________________________________________________________\n",
      "linear0sparse_emb_household_chi (None, 1, 1)         5           household_children[0][0]         \n",
      "__________________________________________________________________________________________________\n",
      "linear0sparse_emb_employment_in (None, 1, 1)         22          employment_industry[0][0]        \n",
      "__________________________________________________________________________________________________\n",
      "linear0sparse_emb_employment_oc (None, 1, 1)         24          employment_occupation[0][0]      \n",
      "__________________________________________________________________________________________________\n",
      "no_mask_20 (NoMask)             (None, 1, 1)         0           linear0sparse_emb_doctor_recc_sea\n",
      "                                                                 linear0sparse_emb_opinion_seas_va\n",
      "                                                                 linear0sparse_emb_opinion_seas_ri\n",
      "                                                                 linear0sparse_emb_opinion_seas_si\n",
      "                                                                 linear0sparse_emb_behavioral_anti\n",
      "                                                                 linear0sparse_emb_behavioral_avoi\n",
      "                                                                 linear0sparse_emb_behavioral_face\n",
      "                                                                 linear0sparse_emb_behavioral_wash\n",
      "                                                                 linear0sparse_emb_behavioral_larg\n",
      "                                                                 linear0sparse_emb_behavioral_outs\n",
      "                                                                 linear0sparse_emb_behavioral_touc\n",
      "                                                                 linear0sparse_emb_chronic_med_con\n",
      "                                                                 linear0sparse_emb_child_under_6_m\n",
      "                                                                 linear0sparse_emb_health_worker[0\n",
      "                                                                 linear0sparse_emb_health_insuranc\n",
      "                                                                 linear0sparse_emb_age_group[0][0]\n",
      "                                                                 linear0sparse_emb_education[0][0]\n",
      "                                                                 linear0sparse_emb_race[0][0]     \n",
      "                                                                 linear0sparse_emb_sex[0][0]      \n",
      "                                                                 linear0sparse_emb_income_poverty[\n",
      "                                                                 linear0sparse_emb_marital_status[\n",
      "                                                                 linear0sparse_emb_rent_or_own[0][\n",
      "                                                                 linear0sparse_emb_employment_stat\n",
      "                                                                 linear0sparse_emb_hhs_geo_region[\n",
      "                                                                 linear0sparse_emb_census_msa[0][0\n",
      "                                                                 linear0sparse_emb_household_adult\n",
      "                                                                 linear0sparse_emb_household_child\n",
      "                                                                 linear0sparse_emb_employment_indu\n",
      "                                                                 linear0sparse_emb_employment_occu\n",
      "__________________________________________________________________________________________________\n",
      "concatenate_10 (Concatenate)    (None, 1, 29)        0           no_mask_20[0][0]                 \n",
      "                                                                 no_mask_20[1][0]                 \n",
      "                                                                 no_mask_20[2][0]                 \n",
      "                                                                 no_mask_20[3][0]                 \n",
      "                                                                 no_mask_20[4][0]                 \n",
      "                                                                 no_mask_20[5][0]                 \n",
      "                                                                 no_mask_20[6][0]                 \n",
      "                                                                 no_mask_20[7][0]                 \n",
      "                                                                 no_mask_20[8][0]                 \n",
      "                                                                 no_mask_20[9][0]                 \n",
      "                                                                 no_mask_20[10][0]                \n",
      "                                                                 no_mask_20[11][0]                \n",
      "                                                                 no_mask_20[12][0]                \n",
      "                                                                 no_mask_20[13][0]                \n",
      "                                                                 no_mask_20[14][0]                \n",
      "                                                                 no_mask_20[15][0]                \n",
      "                                                                 no_mask_20[16][0]                \n",
      "                                                                 no_mask_20[17][0]                \n",
      "                                                                 no_mask_20[18][0]                \n",
      "                                                                 no_mask_20[19][0]                \n",
      "                                                                 no_mask_20[20][0]                \n",
      "                                                                 no_mask_20[21][0]                \n",
      "                                                                 no_mask_20[22][0]                \n",
      "                                                                 no_mask_20[23][0]                \n",
      "                                                                 no_mask_20[24][0]                \n",
      "                                                                 no_mask_20[25][0]                \n",
      "                                                                 no_mask_20[26][0]                \n",
      "                                                                 no_mask_20[27][0]                \n",
      "                                                                 no_mask_20[28][0]                \n",
      "__________________________________________________________________________________________________\n",
      "sparse_emb_doctor_recc_seasonal (None, 1, 2)         6           doctor_recc_seasonal[0][0]       \n",
      "__________________________________________________________________________________________________\n",
      "sparse_emb_opinion_seas_vacc_ef (None, 1, 2)         12          opinion_seas_vacc_effective[0][0]\n",
      "__________________________________________________________________________________________________\n",
      "sparse_emb_opinion_seas_risk (E (None, 1, 2)         12          opinion_seas_risk[0][0]          \n",
      "__________________________________________________________________________________________________\n",
      "sparse_emb_opinion_seas_sick_fr (None, 1, 2)         12          opinion_seas_sick_from_vacc[0][0]\n",
      "__________________________________________________________________________________________________\n",
      "sparse_emb_behavioral_antiviral (None, 1, 2)         6           behavioral_antiviral_meds[0][0]  \n",
      "__________________________________________________________________________________________________\n",
      "sparse_emb_behavioral_avoidance (None, 1, 2)         6           behavioral_avoidance[0][0]       \n",
      "__________________________________________________________________________________________________\n",
      "sparse_emb_behavioral_face_mask (None, 1, 2)         6           behavioral_face_mask[0][0]       \n",
      "__________________________________________________________________________________________________\n",
      "sparse_emb_behavioral_wash_hand (None, 1, 2)         6           behavioral_wash_hands[0][0]      \n",
      "__________________________________________________________________________________________________\n",
      "sparse_emb_behavioral_large_gat (None, 1, 2)         6           behavioral_large_gatherings[0][0]\n",
      "__________________________________________________________________________________________________\n",
      "sparse_emb_behavioral_outside_h (None, 1, 2)         6           behavioral_outside_home[0][0]    \n",
      "__________________________________________________________________________________________________\n",
      "sparse_emb_behavioral_touch_fac (None, 1, 2)         6           behavioral_touch_face[0][0]      \n",
      "__________________________________________________________________________________________________\n",
      "sparse_emb_chronic_med_conditio (None, 1, 2)         6           chronic_med_condition[0][0]      \n",
      "__________________________________________________________________________________________________\n",
      "sparse_emb_child_under_6_months (None, 1, 2)         6           child_under_6_months[0][0]       \n",
      "__________________________________________________________________________________________________\n",
      "sparse_emb_health_worker (Embed (None, 1, 2)         6           health_worker[0][0]              \n",
      "__________________________________________________________________________________________________\n",
      "sparse_emb_health_insurance (Em (None, 1, 2)         6           health_insurance[0][0]           \n",
      "__________________________________________________________________________________________________\n",
      "sparse_emb_age_group (Embedding (None, 1, 2)         10          age_group[0][0]                  \n",
      "__________________________________________________________________________________________________\n",
      "sparse_emb_education (Embedding (None, 1, 2)         10          education[0][0]                  \n",
      "__________________________________________________________________________________________________\n",
      "sparse_emb_race (Embedding)     (None, 1, 2)         8           race[0][0]                       \n",
      "__________________________________________________________________________________________________\n",
      "sparse_emb_sex (Embedding)      (None, 1, 2)         4           sex[0][0]                        \n",
      "__________________________________________________________________________________________________\n",
      "sparse_emb_income_poverty (Embe (None, 1, 2)         8           income_poverty[0][0]             \n",
      "__________________________________________________________________________________________________\n",
      "sparse_emb_marital_status (Embe (None, 1, 2)         6           marital_status[0][0]             \n",
      "__________________________________________________________________________________________________\n",
      "sparse_emb_rent_or_own (Embeddi (None, 1, 2)         6           rent_or_own[0][0]                \n",
      "__________________________________________________________________________________________________\n",
      "sparse_emb_employment_status (E (None, 1, 2)         8           employment_status[0][0]          \n",
      "__________________________________________________________________________________________________\n",
      "sparse_emb_hhs_geo_region (Embe (None, 1, 2)         20          hhs_geo_region[0][0]             \n",
      "__________________________________________________________________________________________________\n",
      "sparse_emb_census_msa (Embeddin (None, 1, 2)         6           census_msa[0][0]                 \n",
      "__________________________________________________________________________________________________\n",
      "sparse_emb_household_adults (Em (None, 1, 2)         10          household_adults[0][0]           \n",
      "__________________________________________________________________________________________________\n",
      "sparse_emb_household_children ( (None, 1, 2)         10          household_children[0][0]         \n",
      "__________________________________________________________________________________________________\n",
      "sparse_emb_employment_industry  (None, 1, 2)         44          employment_industry[0][0]        \n",
      "__________________________________________________________________________________________________\n",
      "sparse_emb_employment_occupatio (None, 1, 2)         48          employment_occupation[0][0]      \n",
      "__________________________________________________________________________________________________\n",
      "linear_10 (Linear)              (None, 1, 1)         0           concatenate_10[0][0]             \n",
      "__________________________________________________________________________________________________\n",
      "afm_layer_10 (AFMLayer)         (None, 1)            42          sparse_emb_doctor_recc_seasonal[0\n",
      "                                                                 sparse_emb_opinion_seas_vacc_effe\n",
      "                                                                 sparse_emb_opinion_seas_risk[0][0\n",
      "                                                                 sparse_emb_opinion_seas_sick_from\n",
      "                                                                 sparse_emb_behavioral_antiviral_m\n",
      "                                                                 sparse_emb_behavioral_avoidance[0\n",
      "                                                                 sparse_emb_behavioral_face_mask[0\n",
      "                                                                 sparse_emb_behavioral_wash_hands[\n",
      "                                                                 sparse_emb_behavioral_large_gathe\n",
      "                                                                 sparse_emb_behavioral_outside_hom\n",
      "                                                                 sparse_emb_behavioral_touch_face[\n",
      "                                                                 sparse_emb_chronic_med_condition[\n",
      "                                                                 sparse_emb_child_under_6_months[0\n",
      "                                                                 sparse_emb_health_worker[0][0]   \n",
      "                                                                 sparse_emb_health_insurance[0][0]\n",
      "                                                                 sparse_emb_age_group[0][0]       \n",
      "                                                                 sparse_emb_education[0][0]       \n",
      "                                                                 sparse_emb_race[0][0]            \n",
      "                                                                 sparse_emb_sex[0][0]             \n",
      "                                                                 sparse_emb_income_poverty[0][0]  \n",
      "                                                                 sparse_emb_marital_status[0][0]  \n",
      "                                                                 sparse_emb_rent_or_own[0][0]     \n",
      "                                                                 sparse_emb_employment_status[0][0\n",
      "                                                                 sparse_emb_hhs_geo_region[0][0]  \n",
      "                                                                 sparse_emb_census_msa[0][0]      \n",
      "                                                                 sparse_emb_household_adults[0][0]\n",
      "                                                                 sparse_emb_household_children[0][\n",
      "                                                                 sparse_emb_employment_industry[0]\n",
      "                                                                 sparse_emb_employment_occupation[\n",
      "__________________________________________________________________________________________________\n",
      "no_mask_21 (NoMask)             (None, 1, 1)         0           linear_10[0][0]                  \n",
      "__________________________________________________________________________________________________\n",
      "add_20 (Add)                    (None, 1)            0           afm_layer_10[0][0]               \n",
      "__________________________________________________________________________________________________\n",
      "add_21 (Add)                    (None, 1, 1)         0           no_mask_21[0][0]                 \n",
      "                                                                 add_20[0][0]                     \n",
      "__________________________________________________________________________________________________\n",
      "prediction_layer_10 (Prediction (None, 1)            1           add_21[0][0]                     \n",
      "==================================================================================================\n",
      "Total params: 502\n",
      "Trainable params: 502\n",
      "Non-trainable params: 0\n",
      "__________________________________________________________________________________________________\n"
     ]
    }
   ],
   "source": [
    "seas_model.summary()"
   ]
  },
  {
   "cell_type": "code",
   "execution_count": 87,
   "metadata": {},
   "outputs": [
    {
     "name": "stdout",
     "output_type": "stream",
     "text": [
      "Epoch 1/15\n",
      "1670/1670 [==============================] - 12s 7ms/step - loss: 0.5240 - auc: 0.8275\n",
      "Epoch 2/15\n",
      "1670/1670 [==============================] - 12s 7ms/step - loss: 0.4738 - auc: 0.8559\n",
      "Epoch 3/15\n",
      "1670/1670 [==============================] - 12s 7ms/step - loss: 0.4692 - auc: 0.8585: 1s - loss\n",
      "Epoch 4/15\n",
      "1670/1670 [==============================] - 11s 7ms/step - loss: 0.4677 - auc: 0.8594\n",
      "Epoch 5/15\n",
      "1670/1670 [==============================] - 11s 7ms/step - loss: 0.4675 - auc: 0.8595\n",
      "Epoch 6/15\n",
      "1670/1670 [==============================] - 11s 7ms/step - loss: 0.4669 - auc: 0.8599\n",
      "Epoch 7/15\n",
      "1670/1670 [==============================] - 12s 7ms/step - loss: 0.4666 - auc: 0.8601: 0s - loss: 0.4672 - \n",
      "Epoch 8/15\n",
      "1670/1670 [==============================] - 12s 7ms/step - loss: 0.4663 - auc: 0.8603\n",
      "Epoch 9/15\n",
      "1670/1670 [==============================] - 14s 9ms/step - loss: 0.4661 - auc: 0.8604\n",
      "Epoch 10/15\n",
      "1670/1670 [==============================] - 13s 8ms/step - loss: 0.4657 - auc: 0.8606\n",
      "Epoch 11/15\n",
      "1670/1670 [==============================] - 11s 6ms/step - loss: 0.4655 - auc: 0.8607\n",
      "Epoch 12/15\n",
      "1670/1670 [==============================] - 10s 6ms/step - loss: 0.4653 - auc: 0.8609\n",
      "Epoch 13/15\n",
      "1670/1670 [==============================] - 11s 7ms/step - loss: 0.4651 - auc: 0.8609\n",
      "Epoch 14/15\n",
      "1670/1670 [==============================] - 10s 6ms/step - loss: 0.4644 - auc: 0.8614\n",
      "Epoch 15/15\n",
      "1670/1670 [==============================] - 11s 6ms/step - loss: 0.4648 - auc: 0.8611: 0s - loss: 0.4649\n"
     ]
    }
   ],
   "source": [
    "seas_history = seas_model.fit(seas_train_model_input, seas_y,\n",
    "                batch_size = 16, epochs=15)"
   ]
  },
  {
   "cell_type": "code",
   "execution_count": null,
   "metadata": {},
   "outputs": [],
   "source": []
  },
  {
   "cell_type": "markdown",
   "metadata": {},
   "source": [
    "Prediction"
   ]
  },
  {
   "cell_type": "code",
   "execution_count": 88,
   "metadata": {},
   "outputs": [],
   "source": [
    "test_id = pd.read_csv(\"test_id.csv\")"
   ]
  },
  {
   "cell_type": "code",
   "execution_count": 89,
   "metadata": {},
   "outputs": [
    {
     "data": {
      "text/plain": [
       "(26708, 1)"
      ]
     },
     "execution_count": 89,
     "metadata": {},
     "output_type": "execute_result"
    }
   ],
   "source": [
    "test_id.shape"
   ]
  },
  {
   "cell_type": "code",
   "execution_count": 90,
   "metadata": {},
   "outputs": [
    {
     "data": {
      "text/plain": [
       "(26708, 31)"
      ]
     },
     "execution_count": 90,
     "metadata": {},
     "output_type": "execute_result"
    }
   ],
   "source": [
    "h1n1_test = pd.read_csv(\"h1n1_test.csv\")\n",
    "#h1n1_test.head()\n",
    "h1n1_test.shape"
   ]
  },
  {
   "cell_type": "code",
   "execution_count": 91,
   "metadata": {},
   "outputs": [
    {
     "data": {
      "text/plain": [
       "(26708, 29)"
      ]
     },
     "execution_count": 91,
     "metadata": {},
     "output_type": "execute_result"
    }
   ],
   "source": [
    "seas_test = pd.read_csv(\"seas_test.csv\")\n",
    "#seas_test.head()\n",
    "seas_test.shape"
   ]
  },
  {
   "cell_type": "markdown",
   "metadata": {},
   "source": [
    "Test data preparation"
   ]
  },
  {
   "cell_type": "code",
   "execution_count": 92,
   "metadata": {},
   "outputs": [],
   "source": [
    "# fill nas with -1\n",
    "h1n1_test = h1n1_test.fillna('-1', )\n",
    "\n",
    "seas_test = seas_test.fillna('-1', )"
   ]
  },
  {
   "cell_type": "code",
   "execution_count": 93,
   "metadata": {},
   "outputs": [],
   "source": [
    "for feat in h1n1_sparse_features:\n",
    "    lbe = LabelEncoder()\n",
    "    h1n1_test[feat] = lbe.fit_transform(h1n1_test[feat].astype(str))"
   ]
  },
  {
   "cell_type": "code",
   "execution_count": 94,
   "metadata": {},
   "outputs": [],
   "source": [
    "h1n1_test_model_input = {name:h1n1_test[name] for name in h1n1_feature_names}"
   ]
  },
  {
   "cell_type": "code",
   "execution_count": 95,
   "metadata": {},
   "outputs": [],
   "source": [
    "for feat in seas_sparse_features:\n",
    "    lbe = LabelEncoder()\n",
    "    seas_test[feat] = lbe.fit_transform(seas_test[feat].astype(str))"
   ]
  },
  {
   "cell_type": "code",
   "execution_count": 96,
   "metadata": {},
   "outputs": [],
   "source": [
    "seas_test_model_input = {name:seas_test[name] for name in seas_feature_names}"
   ]
  },
  {
   "cell_type": "code",
   "execution_count": 97,
   "metadata": {},
   "outputs": [],
   "source": [
    "# prediction"
   ]
  },
  {
   "cell_type": "code",
   "execution_count": 98,
   "metadata": {},
   "outputs": [
    {
     "name": "stdout",
     "output_type": "stream",
     "text": [
      "835/835 [==============================] - 4s 4ms/step\n"
     ]
    }
   ],
   "source": [
    "h1n1_pred = h1n1_model.predict(h1n1_test_model_input, verbose = 1)"
   ]
  },
  {
   "cell_type": "code",
   "execution_count": 99,
   "metadata": {},
   "outputs": [
    {
     "name": "stdout",
     "output_type": "stream",
     "text": [
      "min prediction: 0.0036272407\n",
      "max prediction: 0.98501086\n",
      "avg prediction: 0.19678866043764978\n"
     ]
    }
   ],
   "source": [
    "print(\"min prediction:\", h1n1_pred.min())\n",
    "print(\"max prediction:\", h1n1_pred.max())\n",
    "print(\"avg prediction:\", h1n1_pred.sum()/len(h1n1_pred))"
   ]
  },
  {
   "cell_type": "code",
   "execution_count": 100,
   "metadata": {},
   "outputs": [
    {
     "data": {
      "image/png": "[encoded data removed]",
      "text/plain": [
       "<Figure size 432x288 with 1 Axes>"
      ]
     },
     "metadata": {
      "needs_background": "light"
     },
     "output_type": "display_data"
    }
   ],
   "source": [
    "plt.hist(h1n1_pred[:,0], bins = 10)\n",
    "plt.show()"
   ]
  },
  {
   "cell_type": "code",
   "execution_count": 101,
   "metadata": {},
   "outputs": [
    {
     "name": "stdout",
     "output_type": "stream",
     "text": [
      "835/835 [==============================] - 3s 3ms/step\n"
     ]
    }
   ],
   "source": [
    "seas_pred = seas_model.predict(seas_test_model_input, verbose = 1)"
   ]
  },
  {
   "cell_type": "code",
   "execution_count": 102,
   "metadata": {},
   "outputs": [
    {
     "name": "stdout",
     "output_type": "stream",
     "text": [
      "min prediction: 0.0035496354\n",
      "max prediction: 0.99403334\n",
      "avg prediction: 0.4768041542445148\n"
     ]
    }
   ],
   "source": [
    "print(\"min prediction:\", seas_pred.min())\n",
    "print(\"max prediction:\", seas_pred.max())\n",
    "print(\"avg prediction:\", seas_pred.sum()/len(seas_pred))"
   ]
  },
  {
   "cell_type": "code",
   "execution_count": 103,
   "metadata": {},
   "outputs": [
    {
     "data": {
      "image/png": "[encoded data removed]",
      "text/plain": [
       "<Figure size 432x288 with 1 Axes>"
      ]
     },
     "metadata": {
      "needs_background": "light"
     },
     "output_type": "display_data"
    }
   ],
   "source": [
    "plt.hist(seas_pred[:,0], bins = 10)\n",
    "plt.show()"
   ]
  },
  {
   "cell_type": "code",
   "execution_count": 104,
   "metadata": {},
   "outputs": [],
   "source": [
    "submission = pd.DataFrame({\n",
    "    \"respondent_id\": test_id['x']\n",
    "})"
   ]
  },
  {
   "cell_type": "code",
   "execution_count": 105,
   "metadata": {},
   "outputs": [],
   "source": [
    "submission[\"h1n1_vaccine\"] = h1n1_pred[:,0]"
   ]
  },
  {
   "cell_type": "code",
   "execution_count": 106,
   "metadata": {},
   "outputs": [],
   "source": [
    "submission[\"seasonal_vaccine\"] = seas_pred[:,0]"
   ]
  },
  {
   "cell_type": "code",
   "execution_count": 1,
   "metadata": {},
   "outputs": [],
   "source": [
    "#submission.head()"
   ]
  },
  {
   "cell_type": "code",
   "execution_count": 108,
   "metadata": {},
   "outputs": [],
   "source": [
    "submission.to_csv(\"submission_10_AFM_overfitted.csv\", index = False)"
   ]
  }
 ],
 "metadata": {
  "kernelspec": {
   "display_name": "Python 3",
   "language": "python",
   "name": "python3"
  },
  "language_info": {
   "codemirror_mode": {
    "name": "ipython",
    "version": 3
   },
   "file_extension": ".py",
   "mimetype": "text/x-python",
   "name": "python",
   "nbconvert_exporter": "python",
   "pygments_lexer": "ipython3",
   "version": "3.7.8"
  }
 },
 "nbformat": 4,
 "nbformat_minor": 4
}
