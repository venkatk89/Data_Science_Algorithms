{
 "cells": [
  {
   "cell_type": "code",
   "execution_count": 1,
   "metadata": {},
   "outputs": [],
   "source": [
    "import pandas as pd\n",
    "import matplotlib.pyplot as plt\n",
    "from sklearn.metrics import log_loss, roc_auc_score\n",
    "from sklearn.model_selection import train_test_split\n",
    "from sklearn.preprocessing import LabelEncoder, MinMaxScaler"
   ]
  },
  {
   "cell_type": "code",
   "execution_count": 2,
   "metadata": {},
   "outputs": [],
   "source": [
    "from deepctr.models import *\n",
    "from deepctr.feature_column import SparseFeat, DenseFeat, get_feature_names"
   ]
  },
  {
   "cell_type": "markdown",
   "metadata": {},
   "source": [
    "Importing Necessary Data"
   ]
  },
  {
   "cell_type": "code",
   "execution_count": 3,
   "metadata": {},
   "outputs": [],
   "source": [
    "h1n1_train = pd.read_csv(\"h1n1_train.csv\")"
   ]
  },
  {
   "cell_type": "code",
   "execution_count": 4,
   "metadata": {},
   "outputs": [
    {
     "data": {
      "text/plain": [
       "(26707, 31)"
      ]
     },
     "execution_count": 4,
     "metadata": {},
     "output_type": "execute_result"
    }
   ],
   "source": [
    "#h1n1_train.head()\n",
    "h1n1_train.shape"
   ]
  },
  {
   "cell_type": "code",
   "execution_count": 5,
   "metadata": {},
   "outputs": [],
   "source": [
    "seas_train = pd.read_csv(\"seas_train.csv\")"
   ]
  },
  {
   "cell_type": "code",
   "execution_count": 6,
   "metadata": {},
   "outputs": [
    {
     "data": {
      "text/plain": [
       "(26707, 29)"
      ]
     },
     "execution_count": 6,
     "metadata": {},
     "output_type": "execute_result"
    }
   ],
   "source": [
    "#seas_train.head()\n",
    "seas_train.shape"
   ]
  },
  {
   "cell_type": "code",
   "execution_count": 7,
   "metadata": {},
   "outputs": [],
   "source": [
    "train_y = pd.read_csv(\"~/Desktop/flu_shot_learning/data/training_set_labels.csv\")"
   ]
  },
  {
   "cell_type": "code",
   "execution_count": 8,
   "metadata": {},
   "outputs": [],
   "source": [
    "# saving the target values for different viruses seperately\n",
    "h1n1_y = train_y[\"h1n1_vaccine\"]\n",
    "seas_y = train_y[\"seasonal_vaccine\"]"
   ]
  },
  {
   "cell_type": "markdown",
   "metadata": {},
   "source": [
    "Data Preprocessing"
   ]
  },
  {
   "cell_type": "code",
   "execution_count": 9,
   "metadata": {},
   "outputs": [],
   "source": [
    "# fill nas with -1\n",
    "h1n1_train = h1n1_train.fillna('-1', )\n",
    "\n",
    "seas_train = seas_train.fillna('-1', )"
   ]
  },
  {
   "cell_type": "code",
   "execution_count": 10,
   "metadata": {},
   "outputs": [],
   "source": [
    "h1n1_sparse_features = list(h1n1_train.columns.values)"
   ]
  },
  {
   "cell_type": "code",
   "execution_count": 11,
   "metadata": {},
   "outputs": [],
   "source": [
    "seas_sparse_features = list(seas_train.columns.values)"
   ]
  },
  {
   "cell_type": "code",
   "execution_count": 12,
   "metadata": {},
   "outputs": [],
   "source": [
    "# 1.Label Encoding for sparse features,and do simple Transformation for dense features"
   ]
  },
  {
   "cell_type": "code",
   "execution_count": 13,
   "metadata": {},
   "outputs": [],
   "source": [
    "for feat in h1n1_sparse_features:\n",
    "    lbe = LabelEncoder()\n",
    "    h1n1_train[feat] = lbe.fit_transform(h1n1_train[feat].astype(str))"
   ]
  },
  {
   "cell_type": "code",
   "execution_count": 14,
   "metadata": {},
   "outputs": [],
   "source": [
    "for feat in seas_sparse_features:\n",
    "    lbe = LabelEncoder()\n",
    "    seas_train[feat] = lbe.fit_transform(seas_train[feat].astype(str))"
   ]
  },
  {
   "cell_type": "code",
   "execution_count": null,
   "metadata": {},
   "outputs": [],
   "source": []
  },
  {
   "cell_type": "code",
   "execution_count": 15,
   "metadata": {},
   "outputs": [
    {
     "name": "stdout",
     "output_type": "stream",
     "text": [
      "WARNING:tensorflow:From c:\\users\\venkatesh k\\appdata\\local\\programs\\python\\python37\\lib\\site-packages\\tensorflow\\python\\keras\\initializers.py:143: calling RandomNormal.__init__ (from tensorflow.python.ops.init_ops) with dtype is deprecated and will be removed in a future version.\n",
      "Instructions for updating:\n",
      "Call initializer instance with the dtype argument instead of passing it to the constructor\n"
     ]
    }
   ],
   "source": [
    "h1n1_fixlen_feature_columns = [SparseFeat(feat, vocabulary_size = h1n1_train[feat].nunique(), embedding_dim=2)\n",
    "                              for i,feat in enumerate(h1n1_sparse_features)]"
   ]
  },
  {
   "cell_type": "code",
   "execution_count": 16,
   "metadata": {},
   "outputs": [],
   "source": [
    "seas_fixlen_feature_columns = [SparseFeat(feat, vocabulary_size = seas_train[feat].nunique(), embedding_dim=2)\n",
    "                              for i,feat in enumerate(seas_sparse_features)]"
   ]
  },
  {
   "cell_type": "code",
   "execution_count": null,
   "metadata": {},
   "outputs": [],
   "source": []
  },
  {
   "cell_type": "code",
   "execution_count": 17,
   "metadata": {},
   "outputs": [],
   "source": [
    "h1n1_dnn_feature_columns = h1n1_fixlen_feature_columns\n",
    "h1n1_linear_feature_columns = h1n1_fixlen_feature_columns"
   ]
  },
  {
   "cell_type": "code",
   "execution_count": 18,
   "metadata": {},
   "outputs": [],
   "source": [
    "seas_dnn_feature_columns = seas_fixlen_feature_columns\n",
    "seas_linear_feature_columns = seas_fixlen_feature_columns"
   ]
  },
  {
   "cell_type": "code",
   "execution_count": null,
   "metadata": {},
   "outputs": [],
   "source": []
  },
  {
   "cell_type": "code",
   "execution_count": 19,
   "metadata": {},
   "outputs": [],
   "source": [
    "h1n1_feature_names = get_feature_names(h1n1_linear_feature_columns + h1n1_dnn_feature_columns)"
   ]
  },
  {
   "cell_type": "code",
   "execution_count": 20,
   "metadata": {},
   "outputs": [],
   "source": [
    "seas_feature_names = get_feature_names(seas_linear_feature_columns + seas_dnn_feature_columns)"
   ]
  },
  {
   "cell_type": "markdown",
   "metadata": {},
   "source": [
    "Generate input data for model"
   ]
  },
  {
   "cell_type": "code",
   "execution_count": 21,
   "metadata": {},
   "outputs": [],
   "source": [
    "h1n1_train_model_input = {name:h1n1_train[name] for name in h1n1_feature_names}"
   ]
  },
  {
   "cell_type": "code",
   "execution_count": 22,
   "metadata": {},
   "outputs": [],
   "source": [
    "seas_train_model_input = {name:seas_train[name] for name in seas_feature_names}"
   ]
  },
  {
   "cell_type": "markdown",
   "metadata": {},
   "source": [
    "Model Building"
   ]
  },
  {
   "cell_type": "code",
   "execution_count": 23,
   "metadata": {},
   "outputs": [],
   "source": [
    "h1n1_model = AFM(h1n1_linear_feature_columns, h1n1_dnn_feature_columns, use_attention = False, task='binary')"
   ]
  },
  {
   "cell_type": "code",
   "execution_count": 24,
   "metadata": {},
   "outputs": [],
   "source": [
    "h1n1_model.compile(\"adam\", \"binary_crossentropy\",\n",
    "                metrics=['AUC'], )"
   ]
  },
  {
   "cell_type": "code",
   "execution_count": 1,
   "metadata": {},
   "outputs": [],
   "source": [
    "#h1n1_model.summary()"
   ]
  },
  {
   "cell_type": "code",
   "execution_count": 26,
   "metadata": {},
   "outputs": [
    {
     "name": "stdout",
     "output_type": "stream",
     "text": [
      "Epoch 1/10\n"
     ]
    },
    {
     "name": "stderr",
     "output_type": "stream",
     "text": [
      "c:\\users\\venkatesh k\\appdata\\local\\programs\\python\\python37\\lib\\site-packages\\tensorflow\\python\\framework\\indexed_slices.py:434: UserWarning: Converting sparse IndexedSlices to a dense Tensor of unknown shape. This may consume a large amount of memory.\n",
      "  \"Converting sparse IndexedSlices to a dense Tensor of unknown shape. \"\n"
     ]
    },
    {
     "name": "stdout",
     "output_type": "stream",
     "text": [
      "WARNING:tensorflow:From c:\\users\\venkatesh k\\appdata\\local\\programs\\python\\python37\\lib\\site-packages\\tensorflow\\python\\ops\\resource_variable_ops.py:1817: calling BaseResourceVariable.__init__ (from tensorflow.python.ops.resource_variable_ops) with constraint is deprecated and will be removed in a future version.\n",
      "Instructions for updating:\n",
      "If using Keras pass *_constraint arguments to layers.\n",
      "1670/1670 [==============================] - 13s 8ms/step - loss: 0.3764 - auc: 0.8388\n",
      "Epoch 2/10\n",
      "1670/1670 [==============================] - 13s 8ms/step - loss: 0.3549 - auc: 0.8595\n",
      "Epoch 3/10\n",
      "1670/1670 [==============================] - 14s 8ms/step - loss: 0.3534 - auc: 0.8610\n",
      "Epoch 4/10\n",
      "1670/1670 [==============================] - 15s 9ms/step - loss: 0.3528 - auc: 0.8616\n",
      "Epoch 5/10\n",
      "1670/1670 [==============================] - 15s 9ms/step - loss: 0.3518 - auc: 0.8627: 1s - loss:\n",
      "Epoch 6/10\n",
      "1670/1670 [==============================] - 13s 8ms/step - loss: 0.3511 - auc: 0.8634\n",
      "Epoch 7/10\n",
      "1670/1670 [==============================] - 13s 8ms/step - loss: 0.3506 - auc: 0.8642\n",
      "Epoch 8/10\n",
      "1670/1670 [==============================] - 13s 8ms/step - loss: 0.3498 - auc: 0.8645\n",
      "Epoch 9/10\n",
      "1670/1670 [==============================] - 13s 8ms/step - loss: 0.3495 - auc: 0.8648: 0s - loss: 0.3494 - \n",
      "Epoch 10/10\n",
      "1670/1670 [==============================] - 13s 8ms/step - loss: 0.3492 - auc: 0.8651\n"
     ]
    }
   ],
   "source": [
    "h1n1_history = h1n1_model.fit(h1n1_train_model_input, h1n1_y,\n",
    "                batch_size = 16, epochs=10)"
   ]
  },
  {
   "cell_type": "code",
   "execution_count": null,
   "metadata": {},
   "outputs": [],
   "source": []
  },
  {
   "cell_type": "code",
   "execution_count": 27,
   "metadata": {},
   "outputs": [],
   "source": [
    "seas_model = AFM(seas_linear_feature_columns, seas_dnn_feature_columns, use_attention = False, task='binary')"
   ]
  },
  {
   "cell_type": "code",
   "execution_count": 28,
   "metadata": {},
   "outputs": [],
   "source": [
    "seas_model.compile(\"adam\", \"binary_crossentropy\",\n",
    "                metrics=['AUC'], )"
   ]
  },
  {
   "cell_type": "code",
   "execution_count": 2,
   "metadata": {},
   "outputs": [],
   "source": [
    "#seas_model.summary()"
   ]
  },
  {
   "cell_type": "code",
   "execution_count": 30,
   "metadata": {},
   "outputs": [
    {
     "name": "stdout",
     "output_type": "stream",
     "text": [
      "Epoch 1/10\n",
      "1670/1670 [==============================] - 11s 7ms/step - loss: 0.4939 - auc: 0.8425\n",
      "Epoch 2/10\n",
      "1670/1670 [==============================] - 11s 7ms/step - loss: 0.4734 - auc: 0.8564\n",
      "Epoch 3/10\n",
      "1670/1670 [==============================] - 11s 7ms/step - loss: 0.4724 - auc: 0.8569\n",
      "Epoch 4/10\n",
      "1670/1670 [==============================] - 11s 7ms/step - loss: 0.4710 - auc: 0.8576\n",
      "Epoch 5/10\n",
      "1670/1670 [==============================] - 12s 7ms/step - loss: 0.4704 - auc: 0.8579\n",
      "Epoch 6/10\n",
      "1670/1670 [==============================] - 13s 8ms/step - loss: 0.4694 - auc: 0.8587\n",
      "Epoch 7/10\n",
      "1670/1670 [==============================] - 11s 7ms/step - loss: 0.4689 - auc: 0.8589\n",
      "Epoch 8/10\n",
      "1670/1670 [==============================] - 11s 7ms/step - loss: 0.4682 - auc: 0.8595\n",
      "Epoch 9/10\n",
      "1670/1670 [==============================] - 12s 7ms/step - loss: 0.4672 - auc: 0.8599\n",
      "Epoch 10/10\n",
      "1670/1670 [==============================] - 12s 7ms/step - loss: 0.4662 - auc: 0.8604\n"
     ]
    }
   ],
   "source": [
    "seas_history = seas_model.fit(seas_train_model_input, seas_y,\n",
    "                batch_size = 16, epochs=10)"
   ]
  },
  {
   "cell_type": "code",
   "execution_count": null,
   "metadata": {},
   "outputs": [],
   "source": []
  },
  {
   "cell_type": "markdown",
   "metadata": {},
   "source": [
    "Prediction"
   ]
  },
  {
   "cell_type": "code",
   "execution_count": 31,
   "metadata": {},
   "outputs": [],
   "source": [
    "test_id = pd.read_csv(\"test_id.csv\")"
   ]
  },
  {
   "cell_type": "code",
   "execution_count": 32,
   "metadata": {},
   "outputs": [
    {
     "data": {
      "text/plain": [
       "(26708, 1)"
      ]
     },
     "execution_count": 32,
     "metadata": {},
     "output_type": "execute_result"
    }
   ],
   "source": [
    "test_id.shape"
   ]
  },
  {
   "cell_type": "code",
   "execution_count": 33,
   "metadata": {},
   "outputs": [
    {
     "data": {
      "text/plain": [
       "(26708, 31)"
      ]
     },
     "execution_count": 33,
     "metadata": {},
     "output_type": "execute_result"
    }
   ],
   "source": [
    "h1n1_test = pd.read_csv(\"h1n1_test.csv\")\n",
    "#h1n1_test.head()\n",
    "h1n1_test.shape"
   ]
  },
  {
   "cell_type": "code",
   "execution_count": 34,
   "metadata": {},
   "outputs": [
    {
     "data": {
      "text/plain": [
       "(26708, 29)"
      ]
     },
     "execution_count": 34,
     "metadata": {},
     "output_type": "execute_result"
    }
   ],
   "source": [
    "seas_test = pd.read_csv(\"seas_test.csv\")\n",
    "#seas_test.head()\n",
    "seas_test.shape"
   ]
  },
  {
   "cell_type": "markdown",
   "metadata": {},
   "source": [
    "Test data preparation"
   ]
  },
  {
   "cell_type": "code",
   "execution_count": 35,
   "metadata": {},
   "outputs": [],
   "source": [
    "# fill nas with -1\n",
    "h1n1_test = h1n1_test.fillna('-1', )\n",
    "\n",
    "seas_test = seas_test.fillna('-1', )"
   ]
  },
  {
   "cell_type": "code",
   "execution_count": 36,
   "metadata": {},
   "outputs": [],
   "source": [
    "for feat in h1n1_sparse_features:\n",
    "    lbe = LabelEncoder()\n",
    "    h1n1_test[feat] = lbe.fit_transform(h1n1_test[feat].astype(str))"
   ]
  },
  {
   "cell_type": "code",
   "execution_count": 37,
   "metadata": {},
   "outputs": [],
   "source": [
    "h1n1_test_model_input = {name:h1n1_test[name] for name in h1n1_feature_names}"
   ]
  },
  {
   "cell_type": "code",
   "execution_count": 38,
   "metadata": {},
   "outputs": [],
   "source": [
    "for feat in seas_sparse_features:\n",
    "    lbe = LabelEncoder()\n",
    "    seas_test[feat] = lbe.fit_transform(seas_test[feat].astype(str))"
   ]
  },
  {
   "cell_type": "code",
   "execution_count": 39,
   "metadata": {},
   "outputs": [],
   "source": [
    "seas_test_model_input = {name:seas_test[name] for name in seas_feature_names}"
   ]
  },
  {
   "cell_type": "code",
   "execution_count": 40,
   "metadata": {},
   "outputs": [],
   "source": [
    "# prediction"
   ]
  },
  {
   "cell_type": "code",
   "execution_count": 41,
   "metadata": {},
   "outputs": [],
   "source": [
    "h1n1_pred = h1n1_model.predict(h1n1_test_model_input)"
   ]
  },
  {
   "cell_type": "code",
   "execution_count": 42,
   "metadata": {},
   "outputs": [
    {
     "name": "stdout",
     "output_type": "stream",
     "text": [
      "min prediction: 0.006290227\n",
      "max prediction: 0.999689\n",
      "avg prediction: 0.24322073734929608\n"
     ]
    }
   ],
   "source": [
    "print(\"min prediction:\", h1n1_pred.min())\n",
    "print(\"max prediction:\", h1n1_pred.max())\n",
    "print(\"avg prediction:\", h1n1_pred.sum()/len(h1n1_pred))"
   ]
  },
  {
   "cell_type": "code",
   "execution_count": 43,
   "metadata": {},
   "outputs": [
    {
     "data": {
      "image/png": "[encoded data removed]",
      "text/plain": [
       "<Figure size 432x288 with 1 Axes>"
      ]
     },
     "metadata": {
      "needs_background": "light"
     },
     "output_type": "display_data"
    }
   ],
   "source": [
    "plt.hist(h1n1_pred[:,0], bins = 10)\n",
    "plt.show()"
   ]
  },
  {
   "cell_type": "code",
   "execution_count": 44,
   "metadata": {},
   "outputs": [],
   "source": [
    "seas_pred = seas_model.predict(seas_test_model_input)"
   ]
  },
  {
   "cell_type": "code",
   "execution_count": 45,
   "metadata": {},
   "outputs": [
    {
     "name": "stdout",
     "output_type": "stream",
     "text": [
      "min prediction: 0.013283461\n",
      "max prediction: 0.9997927\n",
      "avg prediction: 0.48719978418217386\n"
     ]
    }
   ],
   "source": [
    "print(\"min prediction:\", seas_pred.min())\n",
    "print(\"max prediction:\", seas_pred.max())\n",
    "print(\"avg prediction:\", seas_pred.sum()/len(seas_pred))"
   ]
  },
  {
   "cell_type": "code",
   "execution_count": 46,
   "metadata": {},
   "outputs": [
    {
     "data": {
      "image/png": "[encoded data removed]",
      "text/plain": [
       "<Figure size 432x288 with 1 Axes>"
      ]
     },
     "metadata": {
      "needs_background": "light"
     },
     "output_type": "display_data"
    }
   ],
   "source": [
    "plt.hist(seas_pred[:,0], bins = 10)\n",
    "plt.show()"
   ]
  },
  {
   "cell_type": "code",
   "execution_count": 47,
   "metadata": {},
   "outputs": [],
   "source": [
    "submission = pd.DataFrame({\n",
    "    \"respondent_id\": test_id['x']\n",
    "})"
   ]
  },
  {
   "cell_type": "code",
   "execution_count": 48,
   "metadata": {},
   "outputs": [],
   "source": [
    "submission[\"h1n1_vaccine\"] = h1n1_pred[:,0]"
   ]
  },
  {
   "cell_type": "code",
   "execution_count": 49,
   "metadata": {},
   "outputs": [],
   "source": [
    "submission[\"seasonal_vaccine\"] = seas_pred[:,0]"
   ]
  },
  {
   "cell_type": "code",
   "execution_count": 1,
   "metadata": {},
   "outputs": [],
   "source": [
    "#submission.head()"
   ]
  },
  {
   "cell_type": "code",
   "execution_count": 52,
   "metadata": {},
   "outputs": [],
   "source": [
    "#submission.to_csv(\"submission_8_FM.csv\", index = False)"
   ]
  },
  {
   "cell_type": "code",
   "execution_count": null,
   "metadata": {},
   "outputs": [],
   "source": []
  }
 ],
 "metadata": {
  "kernelspec": {
   "display_name": "Python 3",
   "language": "python",
   "name": "python3"
  },
  "language_info": {
   "codemirror_mode": {
    "name": "ipython",
    "version": 3
   },
   "file_extension": ".py",
   "mimetype": "text/x-python",
   "name": "python",
   "nbconvert_exporter": "python",
   "pygments_lexer": "ipython3",
   "version": "3.7.8"
  }
 },
 "nbformat": 4,
 "nbformat_minor": 4
}
